{
 "cells": [
  {
   "cell_type": "code",
   "execution_count": 1,
   "id": "loving-response",
   "metadata": {},
   "outputs": [],
   "source": [
    "#Imports\n",
    "\n",
    "from PictogramGrid import Pictogram,Page,Grid\n",
    "from EvaluationGrid import grid_distance_cost,sentence_distance_cost,grid_cost\n",
    "from gpgo import gpgo,load_gpgo\n",
    "import os\n",
    "import json\n",
    "import codecs"
   ]
  },
  {
   "cell_type": "markdown",
   "id": "fresh-consortium",
   "metadata": {},
   "source": [
    "### Dataset loading"
   ]
  },
  {
   "cell_type": "code",
   "execution_count": 2,
   "id": "great-adapter",
   "metadata": {},
   "outputs": [],
   "source": [
    "#Corpus initialization\n",
    "corpus = []\n",
    "paths = [\"./training_corpora\"]\n",
    "\n",
    "#Corpus fetching\n",
    "for path in paths:\n",
    "    for root, dirs, files in os.walk(path):\n",
    "        for name in files:\n",
    "            corpus.append(os.path.join(root,name))"
   ]
  },
  {
   "cell_type": "markdown",
   "id": "abroad-breach",
   "metadata": {},
   "source": [
    "### Grid Generation and Optimization"
   ]
  },
  {
   "cell_type": "code",
   "execution_count": 3,
   "id": "diagnostic-peripheral",
   "metadata": {},
   "outputs": [
    {
     "name": "stderr",
     "output_type": "stream",
     "text": [
      "Process : 0: 100%|███████████████████████████████████████████████████████████| 500/500 [02:37<00:00,  3.18generation/s]\n"
     ]
    }
   ],
   "source": [
    "my_gpgo = load_gpgo(corpus,corpus,\"config/default.yaml\")\n",
    "g,_ = my_gpgo.genetic_algorithm()"
   ]
  },
  {
   "cell_type": "code",
   "execution_count": 4,
   "id": "neural-moisture",
   "metadata": {},
   "outputs": [
    {
     "name": "stdout",
     "output_type": "stream",
     "text": [
      "================GRID================\n",
      "\n",
      "ROOT PAGE :  accueil\n",
      "accueil\n",
      "  |_default0\n",
      "  |_default1\n",
      "  |_default2\n",
      "  |_default3\n",
      "\n",
      "====================================\n",
      "\n",
      "================PAGES===============\n",
      "\n",
      "accueil (5x5) , 25 pictograms\n",
      "default0 (5x5) , 25 pictograms\n",
      "default1 (5x5) , 25 pictograms\n",
      "default2 (5x5) , 25 pictograms\n",
      "default3 (5x5) , 25 pictograms\n",
      "\n",
      "====================================\n"
     ]
    },
    {
     "data": {
      "image/png": "[encoded data removed]",
      "text/plain": [
       "<Figure size 432x288 with 1 Axes>"
      ]
     },
     "metadata": {
      "needs_background": "light"
     },
     "output_type": "display_data"
    }
   ],
   "source": [
    "import pandas as pd\n",
    "import matplotlib.pyplot as plt\n",
    "from EvaluationGrid import grid_cost\n",
    "\n",
    "g.to_csv()\n",
    "g.display_information()\n",
    "\n",
    "\n",
    "#Plot the history\n",
    "avg = my_gpgo.fitness_history(\"average\")\n",
    "best = my_gpgo.fitness_history(\"only_best\")\n",
    "gen_best = my_gpgo.fitness_history(\"gen_best\")\n",
    "\n",
    "plt.plot(avg,label = \"avg\")\n",
    "plt.plot(best,label = \"best\")\n",
    "plt.plot(gen_best,label = \"gen_best\")\n",
    "\n",
    "plt.legend()\n",
    "plt.show()"
   ]
  },
  {
   "cell_type": "markdown",
   "id": "prompt-joyce",
   "metadata": {},
   "source": [
    "### Grid Loading"
   ]
  },
  {
   "cell_type": "code",
   "execution_count": 5,
   "id": "impaired-screw",
   "metadata": {},
   "outputs": [
    {
     "name": "stdout",
     "output_type": "stream",
     "text": [
      "PODD - Number of pictos : 1398    Number of pages :  114\n",
      "EXP - Number of pictos : 125    Number of pages :  5\n"
     ]
    }
   ],
   "source": [
    "#Loading the PODD and the optimized grid (from TCOF dataset)\n",
    "podd = Grid(\"podd.csv\",synonyms_file = \"podd_syn.json\")\n",
    "tcof = Grid(\"default.csv\")\n",
    "\n",
    "podd_infos = [podd.nb_picto,len(podd.pages)]\n",
    "tcof_infos = [tcof.nb_picto,len(tcof.pages)]\n",
    "\n",
    "print(\"PODD - Number of pictos :\",podd_infos[0],\"   Number of pages : \",podd_infos[1])\n",
    "print(\"EXP - Number of pictos :\",tcof_infos[0],\"   Number of pages : \",tcof_infos[1])"
   ]
  },
  {
   "cell_type": "markdown",
   "id": "instant-qualification",
   "metadata": {},
   "source": [
    "   ### Cost Computation"
   ]
  },
  {
   "cell_type": "code",
   "execution_count": 8,
   "id": "boring-arrangement",
   "metadata": {},
   "outputs": [
    {
     "name": "stdout",
     "output_type": "stream",
     "text": [
      "PODD - Cost : 1006.7387100388306     Missmatches : 199\n",
      "Words not in the PODD :\n",
      "{'peut', 'hibou', 'morceau', 'mulot', 'douce', 'nourrit', 'pingouin', 'domestique', 'merle', 'en', 'chasse', 'corbeau', 'engloutir', 'oiseaux', 'mammifere', 'le', 'car', 'glace', 'renard', 'quadripede', 'mer', 'loutre', 'feuilles', 'veut', 'crabe', 'toucan', 'une', 'etre', 'ane', 'banquise', 'marin', 'sont', 'serpent', 'aimerait', 'content', 'mange', 'de', 'comme', 'rongeur', 'des', 'sans', 'terrestre', 'a', 'se', 'vit', 'narval', 'est', 'loup', 'sur', 'dans', 'bout', 'observe', 'pour', 'glisser', 'et', 'gazelle', 'bananes', 'trop', 'les', 'gorille', 'la', 'savane', 'joueuse', 'panda', 'faim', 'fromage', 'froide', 'du', 'animal', 'aime', 'lionne'}\n",
      "EXP - Cost : 1329.3678523738752     Missmatches : 0\n"
     ]
    }
   ],
   "source": [
    "#Cost computation\n",
    "s = \"moi voir hier chat vouloir manger souris\"\n",
    "podd_cost,podd_mm,miss_list = grid_distance_cost(podd,corpus,synonyms_file = \"podd_syn.json\",missmatch_mode = True)\n",
    "print(\"PODD - Cost :\",podd_cost,\"    Missmatches :\",podd_mm)\n",
    "print(\"Words not in the PODD :\")\n",
    "print(miss_list)\n",
    "tcof_cost,tcof_mm,_ = grid_distance_cost(tcof,corpus,synonyms_file = None,missmatch_mode = True)\n",
    "print(\"EXP - Cost :\",tcof_cost,\"    Missmatches :\",tcof_mm)\n"
   ]
  },
  {
   "cell_type": "markdown",
   "id": "polar-joint",
   "metadata": {},
   "source": [
    "### Results"
   ]
  },
  {
   "cell_type": "code",
   "execution_count": null,
   "id": "characteristic-connecticut",
   "metadata": {},
   "outputs": [],
   "source": []
  }
 ],
 "metadata": {
  "kernelspec": {
   "display_name": "Python 3",
   "language": "python",
   "name": "python3"
  },
  "language_info": {
   "codemirror_mode": {
    "name": "ipython",
    "version": 3
   },
   "file_extension": ".py",
   "mimetype": "text/x-python",
   "name": "python",
   "nbconvert_exporter": "python",
   "pygments_lexer": "ipython3",
   "version": "3.8.5"
  }
 },
 "nbformat": 4,
 "nbformat_minor": 5
}
