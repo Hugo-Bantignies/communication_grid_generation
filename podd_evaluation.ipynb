{
 "cells": [
  {
   "cell_type": "code",
   "execution_count": 1,
   "id": "loving-response",
   "metadata": {},
   "outputs": [],
   "source": [
    "#Imports\n",
    "\n",
    "from PictogramGrid import Pictogram,Page,Grid\n",
    "from EvaluationGrid import grid_distance_cost,sentence_distance_cost,grid_cost\n",
    "import os"
   ]
  },
  {
   "cell_type": "markdown",
   "id": "fresh-consortium",
   "metadata": {},
   "source": [
    "### Dataset loading"
   ]
  },
  {
   "cell_type": "code",
   "execution_count": 2,
   "id": "great-adapter",
   "metadata": {},
   "outputs": [],
   "source": [
    "#Corpus initialization\n",
    "corpus = []\n",
    "paths = [\"./training_corpora\"]\n",
    "\n",
    "#Corpus fetching\n",
    "for path in paths:\n",
    "    for root, dirs, files in os.walk(path):\n",
    "        for name in files:\n",
    "            corpus.append(os.path.join(root,name))"
   ]
  },
  {
   "cell_type": "markdown",
   "id": "prompt-joyce",
   "metadata": {},
   "source": [
    "### Grid Loading"
   ]
  },
  {
   "cell_type": "code",
   "execution_count": 3,
   "id": "impaired-screw",
   "metadata": {},
   "outputs": [
    {
     "name": "stdout",
     "output_type": "stream",
     "text": [
      "PODD - Number of pictos : 2991    Number of pages :  114\n",
      "TCOF - Number of pictos : 2482    Number of pages :  100\n"
     ]
    }
   ],
   "source": [
    "#Loading the PODD and the optimized grid (from TCOF dataset)\n",
    "podd = Grid(\"podd.csv\")\n",
    "tcof = Grid(\"default.csv\")\n",
    "\n",
    "podd_infos = [podd.nb_picto,len(podd.pages)]\n",
    "tcof_infos = [tcof.nb_picto,len(tcof.pages)]\n",
    "\n",
    "print(\"PODD - Number of pictos :\",podd_infos[0],\"   Number of pages : \",podd_infos[1])\n",
    "print(\"TCOF - Number of pictos :\",tcof_infos[0],\"   Number of pages : \",tcof_infos[1])"
   ]
  },
  {
   "cell_type": "markdown",
   "id": "instant-qualification",
   "metadata": {},
   "source": [
    "   ### Cost Computation"
   ]
  },
  {
   "cell_type": "code",
   "execution_count": 4,
   "id": "boring-arrangement",
   "metadata": {},
   "outputs": [
    {
     "name": "stdout",
     "output_type": "stream",
     "text": [
      "PODD :  52.081584143595734\n",
      "TCOF :  56.2296551957852\n"
     ]
    }
   ],
   "source": [
    "#Cost computation\n",
    "podd_cost = sentence_distance_cost(podd,\"hier chat vouloir souris\".split(\" \"))\n",
    "tcof_cost = sentence_distance_cost(tcof,\"hier chat vouloir souris\".split(\" \"))\n",
    "print(\"PODD : \",podd_cost)\n",
    "print(\"TCOF : \",tcof_cost)"
   ]
  },
  {
   "cell_type": "markdown",
   "id": "polar-joint",
   "metadata": {},
   "source": [
    "### Results"
   ]
  },
  {
   "cell_type": "code",
   "execution_count": null,
   "id": "chronic-dodge",
   "metadata": {},
   "outputs": [],
   "source": []
  },
  {
   "cell_type": "code",
   "execution_count": null,
   "id": "characteristic-connecticut",
   "metadata": {},
   "outputs": [],
   "source": []
  }
 ],
 "metadata": {
  "kernelspec": {
   "display_name": "Python 3",
   "language": "python",
   "name": "python3"
  },
  "language_info": {
   "codemirror_mode": {
    "name": "ipython",
    "version": 3
   },
   "file_extension": ".py",
   "mimetype": "text/x-python",
   "name": "python",
   "nbconvert_exporter": "python",
   "pygments_lexer": "ipython3",
   "version": "3.8.5"
  }
 },
 "nbformat": 4,
 "nbformat_minor": 5
}
