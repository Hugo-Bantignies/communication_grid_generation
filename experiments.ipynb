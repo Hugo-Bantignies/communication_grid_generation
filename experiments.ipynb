{
 "cells": [
  {
   "cell_type": "markdown",
   "id": "amateur-brake",
   "metadata": {},
   "source": [
    "# Experiments and tests"
   ]
  },
  {
   "cell_type": "code",
   "execution_count": 1,
   "id": "olive-canyon",
   "metadata": {},
   "outputs": [
    {
     "name": "stderr",
     "output_type": "stream",
     "text": [
      "** Optimization **: 100%|███████████████████████████████████████████████████| 100/100 [00:00<00:00, 999.98generation/s]"
     ]
    },
    {
     "name": "stdout",
     "output_type": "stream",
     "text": [
      "####### Genetic Pictogram Grid Communication Optimizer ######\n",
      "\n",
      "## Optimizer Parameters ##\n",
      "========================================================================\n",
      "Source file : input_corpora/animal_proof_3.txt     Evaluation file : input_evaluation/animal_proof_3.txt\n",
      "\n",
      "  INITIAL POPULATION SIZE : 5\n",
      "\n",
      "  NUMBER OF GENERATION : 100\n",
      "\n",
      "  CROSSOVER RATE : 50.0%     MUTATION RATE : 50.0%\n",
      "\n",
      "  CROSSOVER INFORMATION RATE : 50.0%\n",
      "\n",
      "  DISTANCE FORMULA (COST) : MANHATTAN\n",
      "\n",
      "========================================================================\n",
      "\n",
      "INITIAL GENERATION (0) --> Best fitness : 15.0\n",
      "\n",
      "Best individual --> Generation : 98, Fitness : 4\n"
     ]
    },
    {
     "name": "stderr",
     "output_type": "stream",
     "text": [
      "\n"
     ]
    }
   ],
   "source": [
    "from GeneticPGCSOptimizer import GeneticPGCSOptimizer\n",
    "import matplotlib.pyplot as plt\n",
    "from utils import *\n",
    "\n",
    "source_f = \"input_corpora/animal_proof_3.txt\"\n",
    "eval_f = \"input_evaluation/animal_proof_3.txt\"\n",
    "\n",
    "#New genetic optimizer\n",
    "genetic_optimizer = GeneticPGCSOptimizer(source_f,eval_f,pop_size = 5,gen_number = 100,select_number = 2,\n",
    "                                         randomizer = True, cross_proba = 0.5, cross_info_rate = 0.5,\n",
    "                                         mutation_proba = 0.5, cost_average = False, distance_formula = \"manhattan\")\n",
    "\n",
    "#Starting the genetic algorithm of our optimizer\n",
    "optimal_grid = genetic_optimizer.genetic_algorithm()"
   ]
  },
  {
   "cell_type": "code",
   "execution_count": 2,
   "id": "timely-fishing",
   "metadata": {},
   "outputs": [
    {
     "name": "stdout",
     "output_type": "stream",
     "text": [
      "{'le@accueil': ['le', 2, 0, 'accueil', 'le@accueil'], 'dauphin@accueil': ['dauphin', 2, 0, 'accueil', 'dauphin@accueil'], 'singe@accueil': ['singe', 2, 0, 'accueil', 'singe@accueil'], 'cheval@accueil': ['cheval', 2, 0, 'accueil', 'cheval@accueil'], 'chien@accueil': ['chien', 1, 2, 'accueil', 'chien@accueil'], 'requin@accueil': ['requin', 2, 0, 'accueil', 'requin@accueil'], 'pingouin@accueil': ['pingouin', 1, 0, 'accueil', 'pingouin@accueil'], 'narval@accueil': ['narval', 2, 0, 'accueil', 'narval@accueil'], 'chat@accueil': ['chat', 2, 0, 'accueil', 'chat@accueil']}\n"
     ]
    },
    {
     "data": {
      "image/png": "[encoded data removed]",
      "text/plain": [
       "<Figure size 432x288 with 1 Axes>"
      ]
     },
     "metadata": {
      "needs_background": "light"
     },
     "output_type": "display_data"
    }
   ],
   "source": [
    "#We get the fitness history (saved during the execution)\n",
    "history  = genetic_optimizer.fitness_history(option=\"only_best\")\n",
    "\n",
    "#Display the grid in one image (stored as \"default.png\")\n",
    "optimal_grid.display()\n",
    "print(optimal_grid.get_core_voc())\n",
    "\n",
    "#Plot the history\n",
    "plt.plot(history)\n",
    "plt.show()"
   ]
  },
  {
   "cell_type": "code",
   "execution_count": null,
   "id": "honest-danish",
   "metadata": {},
   "outputs": [],
   "source": []
  }
 ],
 "metadata": {
  "kernelspec": {
   "display_name": "Python 3",
   "language": "python",
   "name": "python3"
  },
  "language_info": {
   "codemirror_mode": {
    "name": "ipython",
    "version": 3
   },
   "file_extension": ".py",
   "mimetype": "text/x-python",
   "name": "python",
   "nbconvert_exporter": "python",
   "pygments_lexer": "ipython3",
   "version": "3.8.5"
  }
 },
 "nbformat": 4,
 "nbformat_minor": 5
}
