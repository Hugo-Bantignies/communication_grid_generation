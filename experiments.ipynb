{
 "cells": [
  {
   "cell_type": "markdown",
   "id": "amateur-brake",
   "metadata": {},
   "source": [
    "# Experiments and tests"
   ]
  },
  {
   "cell_type": "code",
   "execution_count": 1,
   "id": "olive-canyon",
   "metadata": {},
   "outputs": [
    {
     "name": "stdout",
     "output_type": "stream",
     "text": [
      "####### Genetic Pictogram Grid Communication Optimizer ######\n",
      "\n",
      "## Optimizer Parameters ##\n",
      "========================================================================\n",
      "Source file : lilou1_hua.txt     Evaluation file : lilou1_hua.txt\n",
      "\n",
      "  INITIAL POPULATION SIZE : 200\n",
      "\n",
      "  NUMBER OF GENERATION : 500\n",
      "\n",
      "  CROSSOVER RATE : 50.0%     MUTATION RATE : 50.0%\n",
      "\n",
      "  CROSSOVER INFORMATION RATE : 50.0%\n",
      "\n",
      "  DISTANCE FORMULA (COST) : EUCLIDEAN\n",
      "\n",
      "========================================================================\n",
      "\n"
     ]
    },
    {
     "name": "stderr",
     "output_type": "stream",
     "text": [
      "\r",
      "** Optimization **:   0%|                                                              | 0/500 [00:00<?, ?generation/s]"
     ]
    },
    {
     "name": "stdout",
     "output_type": "stream",
     "text": [
      "INITIAL GENERATION (0) --> Best fitness : 8182.327206324266\n",
      "\n"
     ]
    },
    {
     "name": "stderr",
     "output_type": "stream",
     "text": [
      "** Optimization **: 100%|████████████████████████████████████████████████████| 500/500 [13:29<00:00,  1.62s/generation]"
     ]
    },
    {
     "name": "stdout",
     "output_type": "stream",
     "text": [
      "Best individual --> Generation : 464, Fitness : 5192.670807207054\n"
     ]
    },
    {
     "name": "stderr",
     "output_type": "stream",
     "text": [
      "\n"
     ]
    }
   ],
   "source": [
    "from GeneticPGCSOptimizer import GeneticPGCSOptimizer\n",
    "import matplotlib.pyplot as plt\n",
    "from utils import *\n",
    "\n",
    "source_f = \"lilou1_hua.txt\"\n",
    "eval_f = \"lilou1_hua.txt\"\n",
    "\n",
    "#New genetic optimizer\n",
    "genetic_optimizer = GeneticPGCSOptimizer(source_f,eval_f,pop_size = 200,gen_number = 500,select_number = 64,\n",
    "                                         randomizer = True, cross_proba = 0.5, cross_info_rate = 0.5,\n",
    "                                         mutation_proba = 0.5, cost_average = False, distance_formula = \"euclidean\")\n",
    "\n",
    "#Starting the genetic algorithm of our optimizer\n",
    "optimal_grid = genetic_optimizer.genetic_algorithm()"
   ]
  },
  {
   "cell_type": "code",
   "execution_count": 2,
   "id": "timely-fishing",
   "metadata": {},
   "outputs": [
    {
     "data": {
      "image/png": "[encoded data removed]",
      "text/plain": [
       "<Figure size 432x288 with 1 Axes>"
      ]
     },
     "metadata": {
      "needs_background": "light"
     },
     "output_type": "display_data"
    }
   ],
   "source": [
    "#We get the fitness history (saved during the execution)\n",
    "history  = genetic_optimizer.fitness_history(option=\"only_best\")\n",
    "\n",
    "#Display the grid in one image (stored as \"default.png\")\n",
    "optimal_grid.display()\n",
    "\n",
    "#Plot the history\n",
    "plt.plot(history)\n",
    "plt.show()"
   ]
  },
  {
   "cell_type": "code",
   "execution_count": null,
   "id": "honest-danish",
   "metadata": {},
   "outputs": [],
   "source": []
  }
 ],
 "metadata": {
  "kernelspec": {
   "display_name": "Python 3",
   "language": "python",
   "name": "python3"
  },
  "language_info": {
   "codemirror_mode": {
    "name": "ipython",
    "version": 3
   },
   "file_extension": ".py",
   "mimetype": "text/x-python",
   "name": "python",
   "nbconvert_exporter": "python",
   "pygments_lexer": "ipython3",
   "version": "3.8.5"
  }
 },
 "nbformat": 4,
 "nbformat_minor": 5
}
