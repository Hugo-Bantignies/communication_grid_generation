{
 "cells": [
  {
   "cell_type": "markdown",
   "id": "amateur-brake",
   "metadata": {},
   "source": [
    "# Experiments and tests"
   ]
  },
  {
   "cell_type": "code",
   "execution_count": 1,
   "id": "olive-canyon",
   "metadata": {
    "scrolled": false
   },
   "outputs": [
    {
     "name": "stderr",
     "output_type": "stream",
     "text": [
      "\r",
      "** Optimization **:   0%|                                                                       | 0/12 [00:00<?, ?it/s]"
     ]
    },
    {
     "name": "stdout",
     "output_type": "stream",
     "text": [
      "####### Genetic Pictogram Grid Communication Optimizer #######\n",
      "\n",
      "## Optimizer Parameters ##\n",
      "========================================================================\n",
      "------------------------------------------------------------------------\n",
      "Source file : training_corpora/animals_corpus.txt     Evaluation file : evaluation_corpora/animals_eval.txt\n",
      "------------------------------------------------------------------------\n",
      "  INITIAL POPULATION SIZE : 150\n",
      "\n",
      "  NUMBER OF GENERATION : 100\n",
      "\n",
      "  CROSSOVER RATE : 50.0%     MUTATION RATE : 50.0%\n",
      "\n",
      "  CROSSOVER INFORMATION RATE : 50.0%\n",
      "\n",
      "  DISTANCE FORMULA (COST) : EUCLIDEAN\n",
      "------------------------------------------------------------------------\n",
      "  NUMBER OF PROCESSES : 12\n",
      "------------------------------------------------------------------------\n",
      "========================================================================\n",
      "\n"
     ]
    },
    {
     "name": "stderr",
     "output_type": "stream",
     "text": [
      "** Optimization **: 100%|██████████████████████████████████████████████████████████████| 12/12 [00:31<00:00,  2.60s/it]\n"
     ]
    },
    {
     "name": "stdout",
     "output_type": "stream",
     "text": [
      "\n",
      " BEST COST :  458.10127654247594\n"
     ]
    }
   ],
   "source": [
    "import GeneticPGCSOptimizer as go\n",
    "from communication_grid import Grid\n",
    "import matplotlib.pyplot as plt\n",
    "from utils import *\n",
    "\n",
    "source_f = \"training_corpora/animals_corpus.txt\"\n",
    "eval_f = \"evaluation_corpora/animals_eval.txt\"\n",
    "\n",
    "if __name__ == '__main__':\n",
    "    optimizer = go.GeneticPGCSOptimizer(source_f,eval_f,pop_size = 150, select_number = 30,\n",
    "                                           gen_number = 100, randomizer = True, distance_formula = \"euclidean\",\n",
    "                                           cost_average = False)\n",
    "\n",
    "    optimal_grid,cost = optimizer.genetic_pgcs_optimization()\n",
    "\n",
    "    print(\"\\n BEST COST : \",cost)\n",
    "    optimal_grid.display()"
   ]
  },
  {
   "cell_type": "code",
   "execution_count": 2,
   "id": "timely-fishing",
   "metadata": {},
   "outputs": [
    {
     "data": {
      "text/plain": [
       "'#We get the fitness history (saved during the execution)\\nbest  = genetic_optimizer.fitness_history(option=\"only_best\")\\navg = genetic_optimizer.fitness_history(option = \"average\")\\n\\n#Display the grid in one image (stored as \"default.png\")\\noptimal_grid.display()\\n\\n#Plot the history\\nplt.plot(avg)\\nplt.plot(best)\\nplt.show()'"
      ]
     },
     "execution_count": 2,
     "metadata": {},
     "output_type": "execute_result"
    }
   ],
   "source": [
    "'''#We get the fitness history (saved during the execution)\n",
    "best  = genetic_optimizer.fitness_history(option=\"only_best\")\n",
    "avg = genetic_optimizer.fitness_history(option = \"average\")\n",
    "\n",
    "#Display the grid in one image (stored as \"default.png\")\n",
    "optimal_grid.display()\n",
    "\n",
    "#Plot the history\n",
    "plt.plot(avg)\n",
    "plt.plot(best)\n",
    "plt.show()'''"
   ]
  },
  {
   "cell_type": "code",
   "execution_count": null,
   "id": "vital-upper",
   "metadata": {},
   "outputs": [],
   "source": []
  }
 ],
 "metadata": {
  "kernelspec": {
   "display_name": "Python 3",
   "language": "python",
   "name": "python3"
  },
  "language_info": {
   "codemirror_mode": {
    "name": "ipython",
    "version": 3
   },
   "file_extension": ".py",
   "mimetype": "text/x-python",
   "name": "python",
   "nbconvert_exporter": "python",
   "pygments_lexer": "ipython3",
   "version": "3.8.5"
  }
 },
 "nbformat": 4,
 "nbformat_minor": 5
}
