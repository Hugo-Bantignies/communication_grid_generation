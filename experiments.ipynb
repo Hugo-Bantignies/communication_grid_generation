{
 "cells": [
  {
   "cell_type": "markdown",
   "id": "amateur-brake",
   "metadata": {},
   "source": [
    "# Experiments and tests"
   ]
  },
  {
   "cell_type": "code",
   "execution_count": 1,
   "id": "olive-canyon",
   "metadata": {},
   "outputs": [
    {
     "name": "stdout",
     "output_type": "stream",
     "text": [
      "####### Genetic Pictogram Grid Communication Optimizer ######\n",
      "\n",
      "## Optimizer Parameters ##\n",
      "========================================================================\n",
      "Source file : input_corpora/animals_corpus.txt     Evaluation file : input_evaluation/animals_eval.txt\n",
      "\n",
      "  INITIAL POPULATION SIZE : 100\n",
      "\n",
      "  NUMBER OF GENERATION : 500\n",
      "\n",
      "  CROSSOVER RATE : 50.0%     MUTATION RATE : 50.0%\n",
      "\n",
      "  CROSSOVER INFORMATION RATE : 50.0%\n",
      "\n",
      "  DISTANCE FORMULA (COST) : EUCLIDEAN\n",
      "\n",
      "========================================================================\n",
      "\n"
     ]
    },
    {
     "name": "stderr",
     "output_type": "stream",
     "text": [
      "** Optimization **:   0%|                                                      | 1/500 [00:00<01:07,  7.43generation/s]"
     ]
    },
    {
     "name": "stdout",
     "output_type": "stream",
     "text": [
      "INITIAL GENERATION (0) --> Best fitness : 584.2258468081836\n",
      "\n"
     ]
    },
    {
     "name": "stderr",
     "output_type": "stream",
     "text": [
      "** Optimization **: 100%|████████████████████████████████████████████████████| 500/500 [01:13<00:00,  6.77generation/s]"
     ]
    },
    {
     "name": "stdout",
     "output_type": "stream",
     "text": [
      "Best individual --> Generation : 443, Fitness : 402.2121938374156\n"
     ]
    },
    {
     "name": "stderr",
     "output_type": "stream",
     "text": [
      "\n"
     ]
    }
   ],
   "source": [
    "from GeneticPGCSOptimizer import GeneticPGCSOptimizer\n",
    "import matplotlib.pyplot as plt\n",
    "from utils import *\n",
    "\n",
    "source_f = \"input_corpora/animals_corpus.txt\"\n",
    "eval_f = \"input_evaluation/animals_eval.txt\"\n",
    "\n",
    "#New genetic optimizer\n",
    "genetic_optimizer = GeneticPGCSOptimizer(source_f,eval_f,pop_size = 100,gen_number = 500,select_number = 50,\n",
    "                                         randomizer = True, cross_proba = 0.5, cross_info_rate = 0.5,\n",
    "                                         mutation_proba = 0.5, cost_average = False, distance_formula = \"euclidean\")\n",
    "\n",
    "#Starting the genetic algorithm of our optimizer\n",
    "optimal_grid = genetic_optimizer.genetic_algorithm()"
   ]
  },
  {
   "cell_type": "code",
   "execution_count": 2,
   "id": "timely-fishing",
   "metadata": {},
   "outputs": [
    {
     "name": "stdout",
     "output_type": "stream",
     "text": [
      "{'gazelle@accueil': ['gazelle', 0, 0, 'accueil', 'gazelle@accueil'], 'de@accueil': ['de', 0, 1, 'accueil', 'de@accueil'], 'pour@accueil': ['pour', 0, 2, 'accueil', 'pour@accueil'], 'nourrit@accueil': ['nourrit', 0, 3, 'accueil', 'nourrit@accueil'], 'froide@accueil': ['froide', 0, 4, 'accueil', 'froide@accueil'], 'mammifere@accueil': ['mammifere', 0, 5, 'accueil', 'mammifere@accueil'], 'glace@accueil': ['glace', 0, 6, 'accueil', 'glace@accueil'], 'sont@accueil': ['sont', 0, 7, 'accueil', 'sont@accueil'], 'intelligent@accueil': ['intelligent', 0, 8, 'accueil', 'intelligent@accueil'], 'mer@accueil': ['mer', 1, 0, 'accueil', 'mer@accueil'], 'en@accueil': ['en', 1, 1, 'accueil', 'en@accueil'], 'souris@accueil': ['souris', 1, 2, 'accueil', 'souris@accueil'], 'quadripede@accueil': ['quadripede', 1, 3, 'accueil', 'quadripede@accueil'], 'girafe@accueil': ['girafe', 1, 4, 'accueil', 'girafe@accueil'], 'est@accueil': ['est', 1, 5, 'accueil', 'est@accueil'], 'gorille@accueil': ['gorille', 1, 6, 'accueil', 'gorille@accueil'], 'animal@accueil': ['animal', 1, 7, 'accueil', 'animal@accueil'], 'trop@accueil': ['trop', 1, 8, 'accueil', 'trop@accueil'], 'banquise@accueil': ['banquise', 2, 0, 'accueil', 'banquise@accueil'], 'eau@accueil': ['eau', 2, 1, 'accueil', 'eau@accueil'], 'se@accueil': ['se', 2, 2, 'accueil', 'se@accueil'], 'une@accueil': ['une', 2, 3, 'accueil', 'une@accueil'], 'dauphin@accueil': ['dauphin', 2, 4, 'accueil', 'dauphin@accueil'], 'domestique@accueil': ['domestique', 2, 5, 'accueil', 'domestique@accueil'], 'un@accueil': ['un', 2, 6, 'accueil', 'un@accueil'], 'du@accueil': ['du', 2, 7, 'accueil', 'du@accueil'], 'rapide@accueil': ['rapide', 2, 8, 'accueil', 'rapide@accueil'], 'fromage@accueil': ['fromage', 3, 0, 'accueil', 'fromage@accueil'], 'loutre@accueil': ['loutre', 3, 1, 'accueil', 'loutre@accueil'], 'la@accueil': ['la', 3, 2, 'accueil', 'la@accueil'], 'vit@accueil': ['vit', 3, 3, 'accueil', 'vit@accueil'], 'poisson@accueil': ['poisson', 3, 4, 'accueil', 'poisson@accueil'], 'a@accueil': ['a', 3, 5, 'accueil', 'a@accueil'], 'etre@accueil': ['etre', 3, 6, 'accueil', 'etre@accueil'], 'marin@accueil': ['marin', 3, 7, 'accueil', 'marin@accueil'], 'peur@accueil': ['peur', 3, 8, 'accueil', 'peur@accueil'], 'froid@accueil': ['froid', 4, 0, 'accueil', 'froid@accueil'], 'morceau@accueil': ['morceau', 4, 1, 'accueil', 'morceau@accueil'], 'sur@accueil': ['sur', 4, 2, 'accueil', 'sur@accueil'], 'lionne@accueil': ['lionne', 4, 3, 'accueil', 'lionne@accueil'], 'le@accueil': ['le', 4, 4, 'accueil', 'le@accueil'], 'singe@accueil': ['singe', 4, 5, 'accueil', 'singe@accueil'], 'pingouin@accueil': ['pingouin', 4, 6, 'accueil', 'pingouin@accueil'], 'rongeur@accueil': ['rongeur', 4, 7, 'accueil', 'rongeur@accueil'], 'peut@accueil': ['peut', 4, 8, 'accueil', 'peut@accueil'], 'les@accueil': ['les', 5, 0, 'accueil', 'les@accueil'], 'manger@accueil': ['manger', 5, 1, 'accueil', 'manger@accueil'], 'chasse@accueil': ['chasse', 5, 2, 'accueil', 'chasse@accueil'], 'dans@accueil': ['dans', 5, 3, 'accueil', 'dans@accueil'], 'chat@accueil': ['chat', 5, 4, 'accueil', 'chat@accueil'], 'long@accueil': ['long', 5, 5, 'accueil', 'long@accueil'], 'terrestre@accueil': ['terrestre', 5, 6, 'accueil', 'terrestre@accueil'], 'et@accueil': ['et', 5, 7, 'accueil', 'et@accueil'], 'joueuse@accueil': ['joueuse', 5, 8, 'accueil', 'joueuse@accueil'], 'elle@accueil': ['elle', 6, 0, 'accueil', 'elle@accueil'], 'aime@accueil': ['aime', 6, 1, 'accueil', 'aime@accueil'], 'savane@accueil': ['savane', 6, 2, 'accueil', 'savane@accueil'], 'glisser@accueil': ['glisser', 6, 3, 'accueil', 'glisser@accueil'], 'avoir@accueil': ['avoir', 6, 4, 'accueil', 'avoir@accueil'], 'faim@accueil': ['faim', 6, 5, 'accueil', 'faim@accueil'], 'comme@accueil': ['comme', 6, 6, 'accueil', 'comme@accueil'], 'cou@accueil': ['cou', 6, 7, 'accueil', 'cou@accueil'], 'petit@accueil': ['petit', 6, 8, 'accueil', 'petit@accueil'], 'feuilles@accueil': ['feuilles', 7, 0, 'accueil', 'feuilles@accueil'], 'veut@accueil': ['veut', 7, 1, 'accueil', 'veut@accueil'], 'douce@accueil': ['douce', 7, 2, 'accueil', 'douce@accueil'], 'bananes@accueil': ['bananes', 7, 3, 'accueil', 'bananes@accueil'], 'des@accueil': ['des', 7, 4, 'accueil', 'des@accueil'], 'mange@accueil': ['mange', 7, 5, 'accueil', 'mange@accueil']}\n"
     ]
    },
    {
     "data": {
      "image/png": "[encoded data removed]",
      "text/plain": [
       "<Figure size 432x288 with 1 Axes>"
      ]
     },
     "metadata": {
      "needs_background": "light"
     },
     "output_type": "display_data"
    }
   ],
   "source": [
    "#We get the fitness history (saved during the execution)\n",
    "history  = genetic_optimizer.fitness_history(option=\"only_best\")\n",
    "\n",
    "#Display the grid in one image (stored as \"default.png\")\n",
    "optimal_grid.display()\n",
    "print(optimal_grid.get_core_voc())\n",
    "\n",
    "#Plot the history\n",
    "plt.plot(history)\n",
    "plt.show()"
   ]
  },
  {
   "cell_type": "code",
   "execution_count": null,
   "id": "honest-danish",
   "metadata": {},
   "outputs": [],
   "source": []
  }
 ],
 "metadata": {
  "kernelspec": {
   "display_name": "Python 3",
   "language": "python",
   "name": "python3"
  },
  "language_info": {
   "codemirror_mode": {
    "name": "ipython",
    "version": 3
   },
   "file_extension": ".py",
   "mimetype": "text/x-python",
   "name": "python",
   "nbconvert_exporter": "python",
   "pygments_lexer": "ipython3",
   "version": "3.8.5"
  }
 },
 "nbformat": 4,
 "nbformat_minor": 5
}
