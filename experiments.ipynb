{
 "cells": [
  {
   "cell_type": "markdown",
   "id": "amateur-brake",
   "metadata": {},
   "source": [
    "# Experiments and tests"
   ]
  },
  {
   "cell_type": "code",
   "execution_count": 1,
   "id": "olive-canyon",
   "metadata": {
    "scrolled": true
   },
   "outputs": [
    {
     "name": "stdout",
     "output_type": "stream",
     "text": [
      "####### Genetic Pictogram Grid Communication Optimizer #######\n",
      "\n",
      "## Optimizer Parameters ##\n",
      "========================================================================\n",
      "------------------------------------------------------------------------\n",
      "  INITIAL POPULATION SIZE : 100\n",
      "\n",
      "  NUMBER OF GENERATION : 1000\n",
      "\n",
      "  CROSSOVER RATE : 50.0%     MUTATION RATE : 50.0%\n",
      "\n",
      "  CROSSOVER INFORMATION RATE : 50.0%\n",
      "\n",
      "------------------------------------------------------------------------\n",
      "========================================================================\n",
      "\n",
      "####### Genetic Pictogram Grid Communication Optimizer #######\n",
      "\n",
      "## Optimizer Parameters ##\n",
      "========================================================================\n",
      "------------------------------------------------------------------------\n",
      "  INITIAL POPULATION SIZE : 100\n",
      "\n",
      "  NUMBER OF GENERATION : 1000\n",
      "\n",
      "  CROSSOVER RATE : 50.0%     MUTATION RATE : 50.0%\n",
      "\n",
      "  CROSSOVER INFORMATION RATE : 50.0%\n",
      "\n",
      "------------------------------------------------------------------------\n",
      "========================================================================\n",
      "\n"
     ]
    },
    {
     "name": "stderr",
     "output_type": "stream",
     "text": [
      "Optimization : 100%|███████████████████████████████████████████████████████| 1000/1000 [04:07<00:00,  4.04generation/s]"
     ]
    },
    {
     "name": "stdout",
     "output_type": "stream",
     "text": [
      "DEBUG : Best individual --> Generation : 853, Fitness : 7.264730177929867\n"
     ]
    },
    {
     "name": "stderr",
     "output_type": "stream",
     "text": [
      "\n"
     ]
    }
   ],
   "source": [
    "from PictogramGrid import Pictogram,Page,Grid\n",
    "from EvaluationGrid import grid_distance_cost,sentence_distance_cost,grid_cost\n",
    "from gpgo import gpgo\n",
    "import os\n",
    "\n",
    "corpus = []\n",
    "\n",
    "for root, dirs, files in os.walk(\"training_corpora\"):\n",
    "    for name in files:\n",
    "        corpus.append(os.path.join(root,name))\n",
    "\n",
    "my_gpgo= gpgo(corpus,corpus,pop_size=100,cross_proba=0.5,cross_info_rate=0.5,\n",
    "              mutation_proba=0.5,select_number=50,gen_number=1000,randomizer=True,similarity_coefficient = 0)\n",
    "\n",
    "my_gpgo.display_config()\n",
    "\n",
    "g = my_gpgo.genetic_algorithm()"
   ]
  },
  {
   "cell_type": "code",
   "execution_count": 2,
   "id": "timely-fishing",
   "metadata": {
    "scrolled": true
   },
   "outputs": [
    {
     "data": {
      "image/png": "[encoded data removed]",
      "text/plain": [
       "<Figure size 432x288 with 1 Axes>"
      ]
     },
     "metadata": {
      "needs_background": "light"
     },
     "output_type": "display_data"
    }
   ],
   "source": [
    "import pandas as pd\n",
    "import matplotlib.pyplot as plt\n",
    "\n",
    "g.to_csv()\n",
    "\n",
    "#Plot the history\n",
    "avg = my_gpgo.fitness_history(\"average\")\n",
    "best = my_gpgo.fitness_history(\"only_best\")\n",
    "gen_best = my_gpgo.fitness_history(\"gen_best\")\n",
    "\n",
    "plt.plot(avg,label = \"avg\")\n",
    "plt.plot(best,label = \"best\")\n",
    "plt.plot(gen_best,label = \"gen_best\")\n",
    "\n",
    "plt.legend()\n",
    "plt.show()"
   ]
  },
  {
   "cell_type": "code",
   "execution_count": null,
   "id": "sacred-basis",
   "metadata": {},
   "outputs": [],
   "source": []
  }
 ],
 "metadata": {
  "kernelspec": {
   "display_name": "Python 3",
   "language": "python",
   "name": "python3"
  },
  "language_info": {
   "codemirror_mode": {
    "name": "ipython",
    "version": 3
   },
   "file_extension": ".py",
   "mimetype": "text/x-python",
   "name": "python",
   "nbconvert_exporter": "python",
   "pygments_lexer": "ipython3",
   "version": "3.8.5"
  }
 },
 "nbformat": 4,
 "nbformat_minor": 5
}
