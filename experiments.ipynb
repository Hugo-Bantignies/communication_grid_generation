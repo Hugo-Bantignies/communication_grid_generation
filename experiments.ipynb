{
 "cells": [
  {
   "cell_type": "markdown",
   "id": "computational-macedonia",
   "metadata": {},
   "source": [
    "# Experiments and tests"
   ]
  },
  {
   "cell_type": "code",
   "execution_count": 1,
   "id": "preliminary-background",
   "metadata": {},
   "outputs": [
    {
     "name": "stdout",
     "output_type": "stream",
     "text": [
      "####### Genetic Pictogram Grid Communication Optimizer ######\n",
      "\n",
      "## Optimizer Parameters ##\n",
      "--------------------------------------------------------------------------\n",
      "Source file : input_corpora/animals_corpus.txt     Evaluation file : input_evaluation/animals_eval.txt\n",
      "\n",
      "  INITIAL POPULATION SIZE : 100\n",
      "\n",
      "  CROSSOVER RATE : 50.0%\n",
      "\n",
      "  MUTATION RATE : 50.0%\n",
      "\n",
      "  NUMBER OF GENERATION : 20\n",
      "\n",
      "--------------------------------------------------------------------------\n",
      "\n"
     ]
    },
    {
     "name": "stderr",
     "output_type": "stream",
     "text": [
      "\r",
      "GENERATION:   0%|                                                                                                                                                                          | 0/20 [00:00<?, ?it/s]"
     ]
    },
    {
     "name": "stdout",
     "output_type": "stream",
     "text": [
      "INITIAL GENERATION --> Best fitness :2382.531836064438\n",
      "\n"
     ]
    },
    {
     "name": "stderr",
     "output_type": "stream",
     "text": [
      "GENERATION: 100%|█████████████████████████████████████████████████████████████████████████████████████████████████████████████████████████████████████████████████████████████████| 20/20 [00:33<00:00,  1.68s/it]"
     ]
    },
    {
     "name": "stdout",
     "output_type": "stream",
     "text": [
      "Best individual coming from the generation 20 with a fitness of 2374.475248089275\n"
     ]
    },
    {
     "name": "stderr",
     "output_type": "stream",
     "text": [
      "\n"
     ]
    }
   ],
   "source": [
    "from GeneticPGCSOptimizer import GeneticPGCSOptimizer\n",
    "import matplotlib.pyplot as plt\n",
    "\n",
    "source_f = \"input_corpora/animals_corpus.txt\"\n",
    "eval_f = \"input_evaluation/animals_eval.txt\"\n",
    "\n",
    "#New genetic optimizer\n",
    "genetic_optimizer = GeneticPGCSOptimizer(source_f,eval_f,pop_size = 100,gen_number = 20,select_number = 20\n",
    "                               ,randomizer = True,cross_proba = 0.5, mutation_proba = 0.5)\n",
    "\n",
    "#Starting the genetic algorithm of our optimizer\n",
    "optimal_grid = genetic_optimizer.genetic_algorithm()"
   ]
  },
  {
   "cell_type": "code",
   "execution_count": 2,
   "id": "dramatic-quarter",
   "metadata": {},
   "outputs": [
    {
     "data": {
      "image/png": "[encoded data removed]",
      "text/plain": [
       "<Figure size 432x288 with 1 Axes>"
      ]
     },
     "metadata": {
      "needs_background": "light"
     },
     "output_type": "display_data"
    }
   ],
   "source": [
    "#We get the fitness history (saved during the execution)\n",
    "history  = genetic_optimizer.fitness_history(option=\"best\")\n",
    "\n",
    "#Display the grid in one image (stored as \"default.png\")\n",
    "optimal_grid.display()\n",
    "\n",
    "#Plot the history\n",
    "plt.plot(history)\n",
    "plt.show()"
   ]
  },
  {
   "cell_type": "code",
   "execution_count": null,
   "id": "proper-graph",
   "metadata": {},
   "outputs": [],
   "source": []
  }
 ],
 "metadata": {
  "kernelspec": {
   "display_name": "Python 3",
   "language": "python",
   "name": "python3"
  },
  "language_info": {
   "codemirror_mode": {
    "name": "ipython",
    "version": 3
   },
   "file_extension": ".py",
   "mimetype": "text/x-python",
   "name": "python",
   "nbconvert_exporter": "python",
   "pygments_lexer": "ipython3",
   "version": "3.8.5"
  }
 },
 "nbformat": 4,
 "nbformat_minor": 5
}
