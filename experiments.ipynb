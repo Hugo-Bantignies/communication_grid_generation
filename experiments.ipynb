{
 "cells": [
  {
   "cell_type": "markdown",
   "id": "amateur-brake",
   "metadata": {},
   "source": [
    "# Experiments and tests"
   ]
  },
  {
   "cell_type": "code",
   "execution_count": 1,
   "id": "olive-canyon",
   "metadata": {
    "scrolled": false
   },
   "outputs": [
    {
     "name": "stdout",
     "output_type": "stream",
     "text": [
      "####### Genetic Pictogram Grid Communication Optimizer #######\n",
      "\n",
      "## Optimizer Parameters ##\n",
      "========================================================================\n",
      "------------------------------------------------------------------------\n",
      "  INITIAL POPULATION SIZE : 300\n",
      "\n",
      "  NUMBER OF GENERATION : 500\n",
      "\n",
      "  CROSSOVER RATE : 50.0%     MUTATION RATE : 50.0%\n",
      "\n",
      "  CROSSOVER INFORMATION RATE : 50.0%\n",
      "\n",
      "  DISTANCE FORMULA (COST) : EUCLIDEAN\n",
      "------------------------------------------------------------------------\n",
      "  NUMBER OF PROCESSES : 1\n",
      "------------------------------------------------------------------------\n",
      "========================================================================\n",
      "\n"
     ]
    }
   ],
   "source": [
    "import GeneticPGCSOptimizer as go\n",
    "from communication_grid import Grid\n",
    "import matplotlib.pyplot as plt\n",
    "import os\n",
    "from utils import *\n",
    "\n",
    "source_corpus = [\"default.csv\"]\n",
    "training_corpus = []\n",
    "\n",
    "for root, dirs, files in os.walk(\"./training_corpora\"):\n",
    "    for name in files:\n",
    "        training_corpus.append(os.path.join(root,name))\n",
    "\n",
    "if __name__ == '__main__':\n",
    "    optimizer = go.GeneticPGCSOptimizer(source_corpus,training_corpus,pop_size = 300, select_number = 50,\n",
    "                                           gen_number = 500, randomizer = True, distance_formula = \"euclidean\",\n",
    "                                           cost_average = False,nb_proc = 1)\n",
    "\n",
    "    optimal_grid,cost = optimizer.genetic_pgcs_optimization()"
   ]
  },
  {
   "cell_type": "code",
   "execution_count": 2,
   "id": "timely-fishing",
   "metadata": {
    "scrolled": true
   },
   "outputs": [
    {
     "data": {
      "image/png": "[encoded data removed]",
      "text/plain": [
       "<Figure size 432x288 with 1 Axes>"
      ]
     },
     "metadata": {
      "needs_background": "light"
     },
     "output_type": "display_data"
    }
   ],
   "source": [
    "#Display the grid in one image (stored as \"default.png\")\n",
    "optimal_grid.to_csv()\n",
    "\n",
    "#Plot the history\n",
    "histos = optimizer.fitness_history(\"only_best\")\n",
    "\n",
    "i = 1\n",
    "for hist in histos:\n",
    "    plt.plot(hist,label = \"p\"+str(i))\n",
    "    i = i + 1\n",
    "\n",
    "plt.legend()\n",
    "plt.show()"
   ]
  },
  {
   "cell_type": "code",
   "execution_count": null,
   "id": "magnetic-merit",
   "metadata": {},
   "outputs": [],
   "source": []
  }
 ],
 "metadata": {
  "kernelspec": {
   "display_name": "Python 3",
   "language": "python",
   "name": "python3"
  },
  "language_info": {
   "codemirror_mode": {
    "name": "ipython",
    "version": 3
   },
   "file_extension": ".py",
   "mimetype": "text/x-python",
   "name": "python",
   "nbconvert_exporter": "python",
   "pygments_lexer": "ipython3",
   "version": "3.8.5"
  }
 },
 "nbformat": 4,
 "nbformat_minor": 5
}
