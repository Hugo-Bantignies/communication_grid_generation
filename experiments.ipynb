{
 "cells": [
  {
   "cell_type": "markdown",
   "id": "amateur-brake",
   "metadata": {},
   "source": [
    "# Experiments and tests"
   ]
  },
  {
   "cell_type": "code",
   "execution_count": null,
   "id": "olive-canyon",
   "metadata": {},
   "outputs": [
    {
     "name": "stdout",
     "output_type": "stream",
     "text": [
      "####### Genetic Pictogram Grid Communication Optimizer ######\n",
      "\n",
      "## Optimizer Parameters ##\n",
      "========================================================================\n",
      "Source file : input_corpora/animals_corpus.txt     Evaluation file : input_evaluation/animals_eval.txt\n",
      "\n",
      "  INITIAL POPULATION SIZE : 100\n",
      "\n",
      "  CROSSOVER RATE : 50.0%\n",
      "\n",
      "  CROSSOVER INFORMATION RATE : 50.0%\n",
      "\n",
      "  MUTATION RATE : 50.0%\n",
      "\n",
      "  NUMBER OF GENERATION : 50\n",
      "\n",
      "========================================================================\n",
      "\n"
     ]
    },
    {
     "name": "stderr",
     "output_type": "stream",
     "text": [
      "\r",
      "GENERATION:   0%|                                                                               | 0/50 [00:00<?, ?it/s]"
     ]
    },
    {
     "name": "stdout",
     "output_type": "stream",
     "text": [
      "INITIAL GENERATION (0) --> Best fitness : 40478.443410791195\n",
      "\n"
     ]
    },
    {
     "name": "stderr",
     "output_type": "stream",
     "text": [
      "GENERATION:  66%|██████████████████████████████████████████████▏                       | 33/50 [00:53<00:26,  1.55s/it]"
     ]
    }
   ],
   "source": [
    "from GeneticPGCSOptimizer import GeneticPGCSOptimizer\n",
    "import matplotlib.pyplot as plt\n",
    "\n",
    "source_f = \"input_corpora/animals_corpus.txt\"\n",
    "eval_f = \"input_evaluation/animals_eval.txt\"\n",
    "\n",
    "#New genetic optimizer\n",
    "genetic_optimizer = GeneticPGCSOptimizer(source_f,eval_f,pop_size = 100,gen_number = 50,select_number = 20\n",
    "                               ,randomizer = True,cross_proba = 0.5, mutation_proba = 0.5, cost_average = False)\n",
    "\n",
    "#Starting the genetic algorithm of our optimizer\n",
    "optimal_grid = genetic_optimizer.genetic_algorithm()"
   ]
  },
  {
   "cell_type": "code",
   "execution_count": null,
   "id": "timely-fishing",
   "metadata": {},
   "outputs": [],
   "source": [
    "#We get the fitness history (saved during the execution)\n",
    "history  = genetic_optimizer.fitness_history(option=\"best\")\n",
    "\n",
    "#Display the grid in one image (stored as \"default.png\")\n",
    "optimal_grid.display()\n",
    "\n",
    "#Plot the history\n",
    "plt.plot(history)\n",
    "plt.show()"
   ]
  }
 ],
 "metadata": {
  "kernelspec": {
   "display_name": "Python 3",
   "language": "python",
   "name": "python3"
  },
  "language_info": {
   "codemirror_mode": {
    "name": "ipython",
    "version": 3
   },
   "file_extension": ".py",
   "mimetype": "text/x-python",
   "name": "python",
   "nbconvert_exporter": "python",
   "pygments_lexer": "ipython3",
   "version": "3.8.5"
  }
 },
 "nbformat": 4,
 "nbformat_minor": 5
}
